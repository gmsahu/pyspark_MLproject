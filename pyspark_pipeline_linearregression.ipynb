{
 "cells": [
  {
   "cell_type": "code",
   "execution_count": 0,
   "metadata": {
    "application/vnd.databricks.v1+cell": {
     "cellMetadata": {
      "byteLimit": 2048000,
      "rowLimit": 10000
     },
     "inputWidgets": {},
     "nuid": "bfc13595-5771-448b-bb70-29522e70f20b",
     "showTitle": false,
     "title": ""
    }
   },
   "outputs": [],
   "source": [
    "##Build machine learning with pipeline ,Pyspark \n",
    "\n",
    "from pyspark.ml.feature import StringIndexer,VectorAssembler\n",
    "from pyspark.ml.pipeline import Pipeline\n",
    "from pyspark.ml.regression import LinearRegression\n",
    "\n",
    "\n",
    "# File location and type\n",
    "file_location = \"/FileStore/tables/tips-3.csv\"\n",
    "file_type = \"csv\"\n",
    "\n",
    "#\n",
    "df=spark.read.csv(file_location,header=True,inferSchema=True) \n"
   ]
  },
  {
   "cell_type": "code",
   "execution_count": 0,
   "metadata": {
    "application/vnd.databricks.v1+cell": {
     "cellMetadata": {
      "byteLimit": 2048000,
      "rowLimit": 10000
     },
     "inputWidgets": {},
     "nuid": "76ec152e-81ed-46bb-9d92-ad72864919a5",
     "showTitle": false,
     "title": ""
    }
   },
   "outputs": [],
   "source": [
    "train_data,test_data=df.randomSplit([0.75,0.25])"
   ]
  },
  {
   "cell_type": "code",
   "execution_count": 0,
   "metadata": {
    "application/vnd.databricks.v1+cell": {
     "cellMetadata": {
      "byteLimit": 2048000,
      "rowLimit": 10000
     },
     "inputWidgets": {},
     "nuid": "ba7ae352-8c62-4b0c-8d2a-5b199c5f3b0f",
     "showTitle": false,
     "title": ""
    }
   },
   "outputs": [],
   "source": [
    "# define stage 1 : trans for the categorical features to numeric form\n",
    "stage_1=StringIndexer(inputCols=['sex','smoker','day','time'],outputCols=['sex_indexed','smoker_indexed','day_indexed','time_indexed'])\n",
    "\n",
    "# define stage 2: create a vector of all the features required to train the linear regression model \n",
    "stage_2 = VectorAssembler(inputCols=['tip', 'sex_indexed', 'smoker_indexed', 'day_indexed','time_indexed','size'],\n",
    "                          outputCol='features')\n",
    "\n",
    "# define stage 3: linear regression model                          \n",
    "stage_3 = LinearRegression(featuresCol='features',labelCol='total_bill')\n",
    "                         \n",
    "\n",
    "# setup the pipeline\n",
    "regression_pipeline = Pipeline(stages=[stage_1,stage_2,stage_3])\n",
    "\n",
    "\n",
    "\n",
    "# fit the pipeline for the trainind data\n",
    "model = regression_pipeline.fit(train_data)\n",
    "\n",
    "# transform the data\n",
    "sample_data_train = model.transform(train_data)\n",
    "\n",
    "\n",
    "##setup for the test data witout the total_bill\n",
    "test_data=test_data.drop('total_bill')\n",
    "#Predict the model with test data\n",
    "prediction=model.transform(test_data)\n",
    "\n",
    "\n"
   ]
  },
  {
   "cell_type": "code",
   "execution_count": 0,
   "metadata": {
    "application/vnd.databricks.v1+cell": {
     "cellMetadata": {
      "byteLimit": 2048000,
      "rowLimit": 10000
     },
     "inputWidgets": {},
     "nuid": "60c10ac4-dbaa-4490-ad85-b0e18eb5c894",
     "showTitle": false,
     "title": ""
    }
   },
   "outputs": [],
   "source": []
  },
  {
   "cell_type": "code",
   "execution_count": 0,
   "metadata": {
    "application/vnd.databricks.v1+cell": {
     "cellMetadata": {
      "byteLimit": 2048000,
      "rowLimit": 10000
     },
     "inputWidgets": {},
     "nuid": "60b8940e-e428-4eb3-8881-983a430fb969",
     "showTitle": false,
     "title": ""
    }
   },
   "outputs": [
    {
     "output_type": "stream",
     "name": "stdout",
     "output_type": "stream",
     "text": [
      "+----+------+------+----+------+----+-----------+--------------+-----------+------------+--------------------+------------------+\n| tip|   sex|smoker| day|  time|size|sex_indexed|smoker_indexed|day_indexed|time_indexed|            features|        prediction|\n+----+------+------+----+------+----+-----------+--------------+-----------+------------+--------------------+------------------+\n|1.25|Female|    No|Thur| Lunch|   2|        1.0|           0.0|        2.0|         1.0|[1.25,1.0,0.0,2.0...|10.672790624833503|\n|1.25|  Male|    No| Sat|Dinner|   2|        0.0|           0.0|        0.0|         0.0|(6,[0,5],[1.25,2.0])| 12.40408897111673|\n| 2.0|Female|   Yes| Fri| Lunch|   2|        1.0|           1.0|        3.0|         1.0|[2.0,1.0,1.0,3.0,...|14.797450296887355|\n|1.71|  Male|    No| Sun|Dinner|   2|        0.0|           0.0|        1.0|         0.0|[1.71,0.0,0.0,1.0...|13.779345864579536|\n| 2.0|Female|    No|Thur| Lunch|   2|        1.0|           0.0|        2.0|         1.0|[2.0,1.0,0.0,2.0,...|12.912190453253302|\n|1.66|  Male|    No| Sun|Dinner|   3|        0.0|           0.0|        1.0|         0.0|[1.66,0.0,0.0,1.0...|16.889230047294774|\n|1.47|  Male|    No| Sat|Dinner|   2|        0.0|           0.0|        0.0|         0.0|(6,[0,5],[1.47,2.0])|13.060979587453204|\n| 2.2|  Male|   Yes| Fri| Lunch|   2|        0.0|           1.0|        3.0|         1.0|[2.2,0.0,1.0,3.0,...|16.231598807555624|\n| 1.8|Female|    No|Thur| Lunch|   2|        1.0|           0.0|        2.0|         1.0|[1.8,1.0,0.0,2.0,...| 12.31501716567469|\n| 1.5|  Male|    No| Fri|Dinner|   2|        0.0|           0.0|        3.0|         0.0|[1.5,0.0,0.0,3.0,...|13.155830576685986|\n|2.75|Female|    No|Thur| Lunch|   2|        1.0|           0.0|        2.0|         1.0|[2.75,1.0,0.0,2.0...|15.151590281673105|\n|2.72|  Male|    No| Sat|Dinner|   2|        0.0|           0.0|        0.0|         0.0|(6,[0,5],[2.72,2.0])| 16.79331263481954|\n|1.58|  Male|   Yes| Fri| Lunch|   2|        0.0|           1.0|        3.0|         1.0|[1.58,0.0,1.0,3.0...| 14.38036161606192|\n|3.48|Female|   Yes| Fri| Lunch|   2|        1.0|           1.0|        3.0|         1.0|[3.48,1.0,1.0,3.0...|19.216532624969098|\n| 2.0|  Male|    No| Sun|Dinner|   2|        0.0|           0.0|        1.0|         0.0|[2.0,0.0,0.0,1.0,...|14.645247131568528|\n|3.06|  Male|    No| Sun|Dinner|   2|        0.0|           0.0|        1.0|         0.0|[3.06,0.0,0.0,1.0...| 17.81026555573518|\n| 2.0|Female|    No|Thur| Lunch|   2|        1.0|           0.0|        2.0|         1.0|[2.0,1.0,0.0,2.0,...|12.912190453253302|\n|3.02|Female|    No| Sun|Dinner|   2|        1.0|           0.0|        1.0|         0.0|[3.02,1.0,0.0,1.0...|16.853855675129807|\n|1.96|  Male|    No| Sun|Dinner|   2|        0.0|           0.0|        1.0|         0.0|[1.96,0.0,0.0,1.0...|14.525812474052804|\n|1.64|  Male|   Yes| Sat|Dinner|   2|        0.0|           1.0|        0.0|         0.0|[1.64,0.0,1.0,0.0...|15.452078393497082|\n+----+------+------+----+------+----+-----------+--------------+-----------+------------+--------------------+------------------+\nonly showing top 20 rows\n\n"
     ]
    }
   ],
   "source": [
    "\n",
    "prediction.show()\n"
   ]
  },
  {
   "cell_type": "code",
   "execution_count": 0,
   "metadata": {
    "application/vnd.databricks.v1+cell": {
     "cellMetadata": {},
     "inputWidgets": {},
     "nuid": "7cc6bc44-6ec4-4af0-adf4-d08069a4b01c",
     "showTitle": false,
     "title": ""
    }
   },
   "outputs": [],
   "source": []
  }
 ],
 "metadata": {
  "application/vnd.databricks.v1+notebook": {
   "dashboards": [],
   "language": "python",
   "notebookMetadata": {
    "pythonIndentUnit": 4
   },
   "notebookName": "Untitled Notebook 2024-04-10 16:50:29",
   "widgets": {}
  }
 },
 "nbformat": 4,
 "nbformat_minor": 0
}
